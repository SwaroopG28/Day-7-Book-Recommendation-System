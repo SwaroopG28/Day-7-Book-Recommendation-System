{
 "cells": [
  {
   "cell_type": "markdown",
   "id": "49f27347",
   "metadata": {},
   "source": [
    "#  Day 7: Building a Book Recommendation System"
   ]
  },
  {
   "cell_type": "code",
   "execution_count": 1,
   "id": "f23cdc80",
   "metadata": {},
   "outputs": [],
   "source": [
    "# Import Required Libraries\n",
    "\n",
    "import pandas as pd\n",
    "import numpy as np\n",
    "from sklearn.feature_extraction.text import TfidfVectorizer\n",
    "from sklearn.metrics.pairwise import cosine_similarity"
   ]
  },
  {
   "cell_type": "code",
   "execution_count": 2,
   "id": "e297ad11",
   "metadata": {},
   "outputs": [
    {
     "name": "stderr",
     "output_type": "stream",
     "text": [
      "C:\\Users\\swaro\\AppData\\Local\\Temp\\ipykernel_192\\1192791795.py:2: FutureWarning: The error_bad_lines argument has been deprecated and will be removed in a future version. Use on_bad_lines in the future.\n",
      "\n",
      "\n",
      "  df = pd.read_csv('Goodreads-books.csv', error_bad_lines=False)\n",
      "Skipping line 3350: expected 12 fields, saw 13\n",
      "Skipping line 4704: expected 12 fields, saw 13\n",
      "Skipping line 5879: expected 12 fields, saw 13\n",
      "Skipping line 8981: expected 12 fields, saw 13\n",
      "\n"
     ]
    }
   ],
   "source": [
    "# Load the dataset\n",
    "df = pd.read_csv('Goodreads-books.csv', error_bad_lines=False)"
   ]
  },
  {
   "cell_type": "code",
   "execution_count": 3,
   "id": "f94a0230",
   "metadata": {},
   "outputs": [
    {
     "name": "stdout",
     "output_type": "stream",
     "text": [
      "First 5 rows of the dataset:\n",
      "   bookID                                              title  \\\n",
      "0       1  Harry Potter and the Half-Blood Prince (Harry ...   \n",
      "1       2  Harry Potter and the Order of the Phoenix (Har...   \n",
      "2       4  Harry Potter and the Chamber of Secrets (Harry...   \n",
      "3       5  Harry Potter and the Prisoner of Azkaban (Harr...   \n",
      "4       8  Harry Potter Boxed Set  Books 1-5 (Harry Potte...   \n",
      "\n",
      "                      authors  average_rating        isbn         isbn13  \\\n",
      "0  J.K. Rowling/Mary GrandPré            4.57  0439785960  9780439785969   \n",
      "1  J.K. Rowling/Mary GrandPré            4.49  0439358078  9780439358071   \n",
      "2                J.K. Rowling            4.42  0439554896  9780439554893   \n",
      "3  J.K. Rowling/Mary GrandPré            4.56  043965548X  9780439655484   \n",
      "4  J.K. Rowling/Mary GrandPré            4.78  0439682584  9780439682589   \n",
      "\n",
      "  language_code    num_pages  ratings_count  text_reviews_count  \\\n",
      "0           eng          652        2095690               27591   \n",
      "1           eng          870        2153167               29221   \n",
      "2           eng          352           6333                 244   \n",
      "3           eng          435        2339585               36325   \n",
      "4           eng         2690          41428                 164   \n",
      "\n",
      "  publication_date        publisher  \n",
      "0        9/16/2006  Scholastic Inc.  \n",
      "1         9/1/2004  Scholastic Inc.  \n",
      "2        11/1/2003       Scholastic  \n",
      "3         5/1/2004  Scholastic Inc.  \n",
      "4        9/13/2004       Scholastic  \n"
     ]
    }
   ],
   "source": [
    "# Display the first few rows\n",
    "print(\"First 5 rows of the dataset:\")\n",
    "print(df.head())"
   ]
  },
  {
   "cell_type": "code",
   "execution_count": 4,
   "id": "538ba436",
   "metadata": {},
   "outputs": [
    {
     "name": "stdout",
     "output_type": "stream",
     "text": [
      "\n",
      "Dataset Info:\n",
      "<class 'pandas.core.frame.DataFrame'>\n",
      "RangeIndex: 11123 entries, 0 to 11122\n",
      "Data columns (total 12 columns):\n",
      " #   Column              Non-Null Count  Dtype  \n",
      "---  ------              --------------  -----  \n",
      " 0   bookID              11123 non-null  int64  \n",
      " 1   title               11123 non-null  object \n",
      " 2   authors             11123 non-null  object \n",
      " 3   average_rating      11123 non-null  float64\n",
      " 4   isbn                11123 non-null  object \n",
      " 5   isbn13              11123 non-null  int64  \n",
      " 6   language_code       11123 non-null  object \n",
      " 7     num_pages         11123 non-null  int64  \n",
      " 8   ratings_count       11123 non-null  int64  \n",
      " 9   text_reviews_count  11123 non-null  int64  \n",
      " 10  publication_date    11123 non-null  object \n",
      " 11  publisher           11123 non-null  object \n",
      "dtypes: float64(1), int64(5), object(6)\n",
      "memory usage: 1.0+ MB\n",
      "None\n"
     ]
    }
   ],
   "source": [
    "# Dataset Information\n",
    "print(\"\\nDataset Info:\")\n",
    "print(df.info())"
   ]
  },
  {
   "cell_type": "code",
   "execution_count": 5,
   "id": "6a6d01ec",
   "metadata": {},
   "outputs": [
    {
     "name": "stdout",
     "output_type": "stream",
     "text": [
      "\n",
      "Missing Values:\n",
      "bookID                0\n",
      "title                 0\n",
      "authors               0\n",
      "average_rating        0\n",
      "isbn                  0\n",
      "isbn13                0\n",
      "language_code         0\n",
      "  num_pages           0\n",
      "ratings_count         0\n",
      "text_reviews_count    0\n",
      "publication_date      0\n",
      "publisher             0\n",
      "dtype: int64\n"
     ]
    }
   ],
   "source": [
    "# Check for missing values\n",
    "print(\"\\nMissing Values:\")\n",
    "print(df.isnull().sum())"
   ]
  },
  {
   "cell_type": "code",
   "execution_count": 7,
   "id": "89ae8acb",
   "metadata": {},
   "outputs": [],
   "source": [
    "df = df[['title', 'authors', 'average_rating', 'language_code', '  num_pages', 'publisher']]"
   ]
  },
  {
   "cell_type": "code",
   "execution_count": 8,
   "id": "6d4c0195",
   "metadata": {},
   "outputs": [
    {
     "name": "stderr",
     "output_type": "stream",
     "text": [
      "C:\\Users\\swaro\\AppData\\Local\\Temp\\ipykernel_192\\124917658.py:2: SettingWithCopyWarning: \n",
      "A value is trying to be set on a copy of a slice from a DataFrame\n",
      "\n",
      "See the caveats in the documentation: https://pandas.pydata.org/pandas-docs/stable/user_guide/indexing.html#returning-a-view-versus-a-copy\n",
      "  df.rename(columns={'  num_pages': 'num_pages'}, inplace=True)\n"
     ]
    }
   ],
   "source": [
    "# Rename columns for easier access\n",
    "df.rename(columns={'  num_pages': 'num_pages'}, inplace=True)"
   ]
  },
  {
   "cell_type": "code",
   "execution_count": 9,
   "id": "02bd8423",
   "metadata": {},
   "outputs": [
    {
     "name": "stderr",
     "output_type": "stream",
     "text": [
      "C:\\Users\\swaro\\AppData\\Local\\Temp\\ipykernel_192\\950202945.py:2: SettingWithCopyWarning: \n",
      "A value is trying to be set on a copy of a slice from a DataFrame.\n",
      "Try using .loc[row_indexer,col_indexer] = value instead\n",
      "\n",
      "See the caveats in the documentation: https://pandas.pydata.org/pandas-docs/stable/user_guide/indexing.html#returning-a-view-versus-a-copy\n",
      "  df['combined_features'] = (\n"
     ]
    }
   ],
   "source": [
    "# Combine relevant features for recommendations\n",
    "df['combined_features'] = (\n",
    "    df['title'] + ' ' +\n",
    "    df['authors'] + ' ' +\n",
    "    df['publisher'] + ' ' +\n",
    "    df['language_code']\n",
    ")"
   ]
  },
  {
   "cell_type": "code",
   "execution_count": 10,
   "id": "7357b915",
   "metadata": {},
   "outputs": [
    {
     "name": "stdout",
     "output_type": "stream",
     "text": [
      "\n",
      "Combined Features:\n",
      "0    Harry Potter and the Half-Blood Prince (Harry ...\n",
      "1    Harry Potter and the Order of the Phoenix (Har...\n",
      "2    Harry Potter and the Chamber of Secrets (Harry...\n",
      "3    Harry Potter and the Prisoner of Azkaban (Harr...\n",
      "4    Harry Potter Boxed Set  Books 1-5 (Harry Potte...\n",
      "Name: combined_features, dtype: object\n"
     ]
    }
   ],
   "source": [
    "# Preview combined features\n",
    "print(\"\\nCombined Features:\")\n",
    "print(df['combined_features'].head())"
   ]
  },
  {
   "cell_type": "code",
   "execution_count": 11,
   "id": "140c6c41",
   "metadata": {},
   "outputs": [],
   "source": [
    "# Use TF-IDF Vectorizer to convert text into numerical features\n",
    "tfidf = TfidfVectorizer(stop_words='english')\n",
    "tfidf_matrix = tfidf.fit_transform(df['combined_features'])"
   ]
  },
  {
   "cell_type": "code",
   "execution_count": 12,
   "id": "caeb0409",
   "metadata": {},
   "outputs": [
    {
     "name": "stdout",
     "output_type": "stream",
     "text": [
      "\n",
      "TF-IDF Matrix Shape: (11123, 18900)\n"
     ]
    }
   ],
   "source": [
    "# Check the shape of the TF-IDF matrix\n",
    "print(\"\\nTF-IDF Matrix Shape:\", tfidf_matrix.shape)\n"
   ]
  },
  {
   "cell_type": "code",
   "execution_count": 13,
   "id": "634d5cb4",
   "metadata": {},
   "outputs": [],
   "source": [
    "# Calculate cosine similarity between all books\n",
    "cosine_sim = cosine_similarity(tfidf_matrix, tfidf_matrix)\n"
   ]
  },
  {
   "cell_type": "code",
   "execution_count": 16,
   "id": "652ddfd6",
   "metadata": {},
   "outputs": [],
   "source": [
    "def recommend_books(title, cosine_sim=cosine_sim, df=df):\n",
    "    # Check if the title exists in the dataset\n",
    "    matches = df[df['title'].str.contains(title, case=False, na=False)]\n",
    "    \n",
    "    if matches.empty:\n",
    "        print(f\"No matches found for the title '{title}'. Please try another title.\")\n",
    "        return pd.DataFrame()  # Return an empty DataFrame\n",
    "    \n",
    "    # Get the index of the first matching book\n",
    "    idx = matches.index[0]\n",
    "    \n",
    "    # Get the similarity scores for all books with the given book\n",
    "    sim_scores = list(enumerate(cosine_sim[idx]))\n",
    "    \n",
    "    # Sort the books based on similarity scores\n",
    "    sim_scores = sorted(sim_scores, key=lambda x: x[1], reverse=True)\n",
    "    \n",
    "    # Get the top 10 most similar books\n",
    "    sim_scores = sim_scores[1:11]\n",
    "    \n",
    "    # Get the indices of the recommended books\n",
    "    book_indices = [i[0] for i in sim_scores]\n",
    "    \n",
    "    # Return the titles of the recommended books\n",
    "    return df.iloc[book_indices][['title', 'authors', 'average_rating']]\n"
   ]
  },
  {
   "cell_type": "code",
   "execution_count": 17,
   "id": "d98e8cae",
   "metadata": {},
   "outputs": [
    {
     "name": "stdout",
     "output_type": "stream",
     "text": [
      "\n",
      "Books similar to 'The Hunger Games':\n",
      "No matches found for the title 'The Hunger Games'. Please try another title.\n",
      "Empty DataFrame\n",
      "Columns: []\n",
      "Index: []\n"
     ]
    }
   ],
   "source": [
    "# Test with a sample book\n",
    "book_title = \"The Hunger Games\"\n",
    "print(f\"\\nBooks similar to '{book_title}':\")\n",
    "recommended_books = recommend_books(book_title)\n",
    "print(recommended_books)"
   ]
  },
  {
   "cell_type": "code",
   "execution_count": 18,
   "id": "b0aa6f6c",
   "metadata": {},
   "outputs": [
    {
     "name": "stdout",
     "output_type": "stream",
     "text": [
      "\n",
      "Books similar to 'Harry Potter':\n",
      "                                                   title  \\\n",
      "615    Harry Potter and the Half-Blood Prince (Harry ...   \n",
      "1      Harry Potter and the Order of the Phoenix (Har...   \n",
      "4      Harry Potter Boxed Set  Books 1-5 (Harry Potte...   \n",
      "3      Harry Potter and the Prisoner of Azkaban (Harr...   \n",
      "6           Harry Potter Collection (Harry Potter  #1-6)   \n",
      "4415   Harry Potter and the Chamber of Secrets (Harry...   \n",
      "2      Harry Potter and the Chamber of Secrets (Harry...   \n",
      "10675  Harry Potter and the Goblet of Fire (Harry Pot...   \n",
      "8873   Harry Potter and the Sorcerer's Stone (Harry P...   \n",
      "1233   Harry Potter and the Prisoner of Azkaban (Harr...   \n",
      "\n",
      "                          authors  average_rating  \n",
      "615                  J.K. Rowling            4.57  \n",
      "1      J.K. Rowling/Mary GrandPré            4.49  \n",
      "4      J.K. Rowling/Mary GrandPré            4.78  \n",
      "3      J.K. Rowling/Mary GrandPré            4.56  \n",
      "6                    J.K. Rowling            4.73  \n",
      "4415   J.K. Rowling/Mary GrandPré            4.42  \n",
      "2                    J.K. Rowling            4.42  \n",
      "10675                J.K. Rowling            4.56  \n",
      "8873   J.K. Rowling/Mary GrandPré            4.47  \n",
      "1233                 J.K. Rowling            4.56  \n"
     ]
    }
   ],
   "source": [
    "# Test with a new book title\n",
    "book_title = \"Harry Potter\"\n",
    "print(f\"\\nBooks similar to '{book_title}':\")\n",
    "recommended_books = recommend_books(book_title)\n",
    "print(recommended_books)\n"
   ]
  }
 ],
 "metadata": {
  "kernelspec": {
   "display_name": "Python 3 (ipykernel)",
   "language": "python",
   "name": "python3"
  },
  "language_info": {
   "codemirror_mode": {
    "name": "ipython",
    "version": 3
   },
   "file_extension": ".py",
   "mimetype": "text/x-python",
   "name": "python",
   "nbconvert_exporter": "python",
   "pygments_lexer": "ipython3",
   "version": "3.11.4"
  }
 },
 "nbformat": 4,
 "nbformat_minor": 5
}
